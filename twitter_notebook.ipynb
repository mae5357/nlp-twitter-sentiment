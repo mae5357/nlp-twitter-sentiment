{
 "cells": [
  {
   "cell_type": "code",
   "execution_count": 1,
   "metadata": {},
   "outputs": [
    {
     "name": "stderr",
     "output_type": "stream",
     "text": [
      "[nltk_data] Downloading package punkt to /home/madis/nltk_data...\n",
      "[nltk_data]   Package punkt is already up-to-date!\n",
      "[nltk_data] Downloading package stopwords to /home/madis/nltk_data...\n",
      "[nltk_data]   Package stopwords is already up-to-date!\n",
      "[nltk_data] Downloading package wordnet to /home/madis/nltk_data...\n",
      "[nltk_data]   Package wordnet is already up-to-date!\n"
     ]
    },
    {
     "data": {
      "text/plain": [
       "True"
      ]
     },
     "execution_count": 1,
     "metadata": {},
     "output_type": "execute_result"
    }
   ],
   "source": [
    "from nltk.tokenize import word_tokenize\n",
    "import nltk\n",
    "from pprint import pprint  # pretty-printer\n",
    "import gensim\n",
    "assert gensim.models.doc2vec.FAST_VERSION > -1, \"This will be painfully slow otherwise\"\n",
    "from gensim.models.doc2vec import Doc2Vec\n",
    "\n",
    "nltk.download('punkt')\n",
    "nltk.download('stopwords')\n",
    "nltk.download('wordnet')"
   ]
  },
  {
   "cell_type": "code",
   "execution_count": 2,
   "metadata": {},
   "outputs": [],
   "source": [
    "# import data from data folder\n",
    "import pandas as pd\n",
    "data = pd.read_csv('data/train.csv')\n",
    "\n",
    "list_of_text = data['text'].to_list()\n",
    "list_of_targets = data['target'].to_list()"
   ]
  },
  {
   "cell_type": "code",
   "execution_count": 3,
   "metadata": {},
   "outputs": [],
   "source": [
    "from nltk.tokenize import word_tokenize\n",
    "from nltk.corpus import stopwords\n",
    "from gensim import corpora\n",
    "\n",
    "en_stop = set(stopwords.words('english'))\n",
    "\n",
    "def get_lemma2(word):\n",
    "    from nltk.stem.wordnet import WordNetLemmatizer\n",
    "    \"\"\"\n",
    "    This function takes a word and returns its rootword\n",
    "    \"\"\"\n",
    "    return WordNetLemmatizer().lemmatize(word)\n",
    "\n",
    "def nltk_preprocessing(text):\n",
    "    \"\"\"\n",
    "    This function takes a text and returns a list of tokens\n",
    "    - lowercase\n",
    "    - remove short words\n",
    "    - remove stopwords\n",
    "    - gets root word (lemma)\n",
    "\n",
    "    \"\"\"\n",
    "    tokens = word_tokenize(text.lower())\n",
    "    # tokens = [token for token in tokens if len(token) > 4]      # remove short words\n",
    "    tokens = [token for token in tokens if token not in en_stop]\n",
    "    tokens = [get_lemma2(token) for token in tokens]\n",
    "    return tokens"
   ]
  },
  {
   "cell_type": "markdown",
   "metadata": {},
   "source": [
    "# apply some tf-idf\n"
   ]
  },
  {
   "cell_type": "code",
   "execution_count": 4,
   "metadata": {},
   "outputs": [],
   "source": [
    "# apply tf-idf\n",
    "from gensim import corpora, models\n",
    "\n",
    "# Create the Dictionary and Corpus\n",
    "mydict = corpora.Dictionary([nltk_preprocessing(line) for line in list_of_text])\n",
    "corpus = [mydict.doc2bow(nltk_preprocessing(line)) for line in list_of_text]\n",
    "tfidf = models.TfidfModel(corpus)\n",
    "corpus_tfidf = tfidf[corpus]  "
   ]
  },
  {
   "cell_type": "code",
   "execution_count": 5,
   "metadata": {},
   "outputs": [],
   "source": [
    "# corpus tfidf to scipy sparse matrix\n",
    "from gensim.matutils import corpus2csc\n",
    "import scipy.sparse\n",
    "corpus_tfidf_sparse = scipy.sparse.csc_matrix(corpus2csc(corpus_tfidf))\n",
    "\n"
   ]
  },
  {
   "cell_type": "markdown",
   "metadata": {},
   "source": [
    "# Doc to Vec"
   ]
  },
  {
   "cell_type": "code",
   "execution_count": 33,
   "metadata": {},
   "outputs": [],
   "source": [
    "from gensim. models.doc2vec import TaggedDocument as TaggedDocument\n",
    "from gensim.models import Doc2Vec\n",
    "\n",
    "list_of_preprocessed_text = [nltk_preprocessing(line) for line in list_of_text]\n",
    "\n",
    "def taggedDoc_func(list_of_preprocessed_text, list_of_targets):\n",
    "    taggedDoc = []\n",
    "    for text, target in zip(list_of_preprocessed_text, list_of_targets):\n",
    "        taggedDoc.append(TaggedDocument(text, str(target)))\n",
    "    return taggedDoc\n",
    "    \n",
    "taggedDoc = taggedDoc_func(list_of_preprocessed_text, list_of_targets)"
   ]
  },
  {
   "cell_type": "code",
   "execution_count": 34,
   "metadata": {},
   "outputs": [],
   "source": [
    "import gensim\n",
    "size=400\n",
    "#instantiate our DM and DBOW models\n",
    "model_dm = gensim.models.Doc2Vec(min_count=1, window=10, vector_size=size, sample=1e-3, negative=5, workers=3)\n",
    "model_dbow = gensim.models.Doc2Vec(min_count=1, window=10, vector_size=size, sample=1e-3, negative=5, dm=0, workers=3)"
   ]
  },
  {
   "cell_type": "code",
   "execution_count": 35,
   "metadata": {},
   "outputs": [],
   "source": [
    "import numpy as np\n",
    "#build vocab over all reviews -- can only be once generated\n",
    "\n",
    "model_dm.build_vocab(taggedDoc)\n",
    "model_dbow.build_vocab(taggedDoc) "
   ]
  },
  {
   "cell_type": "code",
   "execution_count": 37,
   "metadata": {},
   "outputs": [
    {
     "ename": "AttributeError",
     "evalue": "'list' object has no attribute 'shape'",
     "output_type": "error",
     "traceback": [
      "\u001b[0;31m---------------------------------------------------------------------------\u001b[0m",
      "\u001b[0;31mAttributeError\u001b[0m                            Traceback (most recent call last)",
      "Cell \u001b[0;32mIn [37], line 4\u001b[0m\n\u001b[1;32m      1\u001b[0m \u001b[38;5;66;03m# TRAIN MODESL\u001b[39;00m\n\u001b[1;32m      2\u001b[0m \u001b[38;5;66;03m#We pass through the data set multiple times, shuffling the training reviews each time to improve accuracy.\u001b[39;00m\n\u001b[1;32m      3\u001b[0m \u001b[38;5;28;01mfor\u001b[39;00m epoch \u001b[38;5;129;01min\u001b[39;00m \u001b[38;5;28mrange\u001b[39m(\u001b[38;5;241m10\u001b[39m):\n\u001b[0;32m----> 4\u001b[0m     perm \u001b[38;5;241m=\u001b[39m np\u001b[38;5;241m.\u001b[39mrandom\u001b[38;5;241m.\u001b[39mpermutation(taggedDoc\u001b[38;5;241m.\u001b[39mshape[\u001b[38;5;241m0\u001b[39m])\n\u001b[1;32m      5\u001b[0m     model_dm\u001b[38;5;241m.\u001b[39mtrain(taggedDoc[perm])\n\u001b[1;32m      6\u001b[0m     model_dbow\u001b[38;5;241m.\u001b[39mtrain(taggedDoc[perm])\n",
      "\u001b[0;31mAttributeError\u001b[0m: 'list' object has no attribute 'shape'"
     ]
    }
   ],
   "source": [
    "# TRAIN MODES\n",
    "#We pass through the data set multiple times, shuffling the training reviews each time to improve accuracy.\n",
    "for epoch in range(10):\n",
    "    perm = np.random.permutation(taggedDoc.shape[0])\n",
    "    model_dm.train(taggedDoc[perm])\n",
    "    model_dbow.train(taggedDoc[perm])"
   ]
  },
  {
   "cell_type": "code",
   "execution_count": 46,
   "metadata": {},
   "outputs": [
    {
     "name": "stderr",
     "output_type": "stream",
     "text": [
      "Exception in thread Thread-8:\n",
      "Traceback (most recent call last):\n",
      "  File \"/usr/lib/python3.8/threading.py\", line 932, in _bootstrap_inner\n",
      "    self.run()\n",
      "  File \"/usr/lib/python3.8/threading.py\", line 870, in run\n",
      "    self._target(*self._args, **self._kwargs)\n",
      "  File \"/home/madis/sandbox/cohere-takehome/venv/lib/python3.8/site-packages/gensim/models/base_any2vec.py\", line 251, in _job_producer\n",
      "    data_length = self._raw_word_count([data])\n",
      "  File \"/home/madis/sandbox/cohere-takehome/venv/lib/python3.8/site-packages/gensim/models/doc2vec.py\", line 873, in _raw_word_count\n",
      "    return sum(len(sentence.words) for sentence in job)\n",
      "  File \"/home/madis/sandbox/cohere-takehome/venv/lib/python3.8/site-packages/gensim/models/doc2vec.py\", line 873, in <genexpr>\n",
      "    return sum(len(sentence.words) for sentence in job)\n",
      "AttributeError: 'numpy.ndarray' object has no attribute 'words'\n"
     ]
    },
    {
     "ename": "KeyboardInterrupt",
     "evalue": "",
     "output_type": "error",
     "traceback": [
      "\u001b[0;31m---------------------------------------------------------------------------\u001b[0m",
      "\u001b[0;31mKeyboardInterrupt\u001b[0m                         Traceback (most recent call last)",
      "Cell \u001b[0;32mIn [46], line 4\u001b[0m\n\u001b[1;32m      2\u001b[0m \u001b[38;5;28;01mfor\u001b[39;00m epoch \u001b[38;5;129;01min\u001b[39;00m \u001b[38;5;28mrange\u001b[39m(\u001b[38;5;241m10\u001b[39m):\n\u001b[1;32m      3\u001b[0m     perm \u001b[38;5;241m=\u001b[39m np\u001b[38;5;241m.\u001b[39mrandom\u001b[38;5;241m.\u001b[39mpermutation(all_tagged_doc\u001b[38;5;241m.\u001b[39mshape[\u001b[38;5;241m0\u001b[39m])\n\u001b[0;32m----> 4\u001b[0m     model_dm\u001b[38;5;241m.\u001b[39mtrain(all_tagged_doc[perm], total_examples\u001b[38;5;241m=\u001b[39mmodel_dm\u001b[38;5;241m.\u001b[39mcorpus_count, epochs\u001b[38;5;241m=\u001b[39m\u001b[38;5;241m10\u001b[39m)\n\u001b[1;32m      5\u001b[0m     model_dbow\u001b[38;5;241m.\u001b[39mtrain(all_tagged_doc[perm], total_examples\u001b[38;5;241m=\u001b[39mmodel_dbow\u001b[38;5;241m.\u001b[39mcorpus_count,  epochs\u001b[38;5;241m=\u001b[39m\u001b[38;5;241m10\u001b[39m)\n",
      "File \u001b[0;32m~/sandbox/cohere-takehome/venv/lib/python3.8/site-packages/gensim/models/doc2vec.py:810\u001b[0m, in \u001b[0;36mDoc2Vec.train\u001b[0;34m(self, documents, corpus_file, total_examples, total_words, epochs, start_alpha, end_alpha, word_count, queue_factor, report_delay, callbacks)\u001b[0m\n\u001b[1;32m    807\u001b[0m     kwargs[\u001b[39m'\u001b[39m\u001b[39moffsets\u001b[39m\u001b[39m'\u001b[39m] \u001b[39m=\u001b[39m offsets\n\u001b[1;32m    808\u001b[0m     kwargs[\u001b[39m'\u001b[39m\u001b[39mstart_doctags\u001b[39m\u001b[39m'\u001b[39m] \u001b[39m=\u001b[39m start_doctags\n\u001b[0;32m--> 810\u001b[0m \u001b[39msuper\u001b[39;49m(Doc2Vec, \u001b[39mself\u001b[39;49m)\u001b[39m.\u001b[39;49mtrain(\n\u001b[1;32m    811\u001b[0m     sentences\u001b[39m=\u001b[39;49mdocuments, corpus_file\u001b[39m=\u001b[39;49mcorpus_file, total_examples\u001b[39m=\u001b[39;49mtotal_examples, total_words\u001b[39m=\u001b[39;49mtotal_words,\n\u001b[1;32m    812\u001b[0m     epochs\u001b[39m=\u001b[39;49mepochs, start_alpha\u001b[39m=\u001b[39;49mstart_alpha, end_alpha\u001b[39m=\u001b[39;49mend_alpha, word_count\u001b[39m=\u001b[39;49mword_count,\n\u001b[1;32m    813\u001b[0m     queue_factor\u001b[39m=\u001b[39;49mqueue_factor, report_delay\u001b[39m=\u001b[39;49mreport_delay, callbacks\u001b[39m=\u001b[39;49mcallbacks, \u001b[39m*\u001b[39;49m\u001b[39m*\u001b[39;49mkwargs)\n",
      "File \u001b[0;32m~/sandbox/cohere-takehome/venv/lib/python3.8/site-packages/gensim/models/base_any2vec.py:1077\u001b[0m, in \u001b[0;36mBaseWordEmbeddingsModel.train\u001b[0;34m(self, sentences, corpus_file, total_examples, total_words, epochs, start_alpha, end_alpha, word_count, queue_factor, report_delay, compute_loss, callbacks, **kwargs)\u001b[0m\n\u001b[1;32m   1075\u001b[0m \u001b[39mself\u001b[39m\u001b[39m.\u001b[39mcompute_loss \u001b[39m=\u001b[39m compute_loss\n\u001b[1;32m   1076\u001b[0m \u001b[39mself\u001b[39m\u001b[39m.\u001b[39mrunning_training_loss \u001b[39m=\u001b[39m \u001b[39m0.0\u001b[39m\n\u001b[0;32m-> 1077\u001b[0m \u001b[39mreturn\u001b[39;00m \u001b[39msuper\u001b[39;49m(BaseWordEmbeddingsModel, \u001b[39mself\u001b[39;49m)\u001b[39m.\u001b[39;49mtrain(\n\u001b[1;32m   1078\u001b[0m     data_iterable\u001b[39m=\u001b[39;49msentences, corpus_file\u001b[39m=\u001b[39;49mcorpus_file, total_examples\u001b[39m=\u001b[39;49mtotal_examples,\n\u001b[1;32m   1079\u001b[0m     total_words\u001b[39m=\u001b[39;49mtotal_words, epochs\u001b[39m=\u001b[39;49mepochs, start_alpha\u001b[39m=\u001b[39;49mstart_alpha, end_alpha\u001b[39m=\u001b[39;49mend_alpha, word_count\u001b[39m=\u001b[39;49mword_count,\n\u001b[1;32m   1080\u001b[0m     queue_factor\u001b[39m=\u001b[39;49mqueue_factor, report_delay\u001b[39m=\u001b[39;49mreport_delay, compute_loss\u001b[39m=\u001b[39;49mcompute_loss, callbacks\u001b[39m=\u001b[39;49mcallbacks,\n\u001b[1;32m   1081\u001b[0m     \u001b[39m*\u001b[39;49m\u001b[39m*\u001b[39;49mkwargs)\n",
      "File \u001b[0;32m~/sandbox/cohere-takehome/venv/lib/python3.8/site-packages/gensim/models/base_any2vec.py:551\u001b[0m, in \u001b[0;36mBaseAny2VecModel.train\u001b[0;34m(self, data_iterable, corpus_file, epochs, total_examples, total_words, queue_factor, report_delay, callbacks, **kwargs)\u001b[0m\n\u001b[1;32m    548\u001b[0m     callback\u001b[39m.\u001b[39mon_epoch_begin(\u001b[39mself\u001b[39m)\n\u001b[1;32m    550\u001b[0m \u001b[39mif\u001b[39;00m data_iterable \u001b[39mis\u001b[39;00m \u001b[39mnot\u001b[39;00m \u001b[39mNone\u001b[39;00m:\n\u001b[0;32m--> 551\u001b[0m     trained_word_count_epoch, raw_word_count_epoch, job_tally_epoch \u001b[39m=\u001b[39m \u001b[39mself\u001b[39;49m\u001b[39m.\u001b[39;49m_train_epoch(\n\u001b[1;32m    552\u001b[0m         data_iterable, cur_epoch\u001b[39m=\u001b[39;49mcur_epoch, total_examples\u001b[39m=\u001b[39;49mtotal_examples,\n\u001b[1;32m    553\u001b[0m         total_words\u001b[39m=\u001b[39;49mtotal_words, queue_factor\u001b[39m=\u001b[39;49mqueue_factor, report_delay\u001b[39m=\u001b[39;49mreport_delay)\n\u001b[1;32m    554\u001b[0m \u001b[39melse\u001b[39;00m:\n\u001b[1;32m    555\u001b[0m     trained_word_count_epoch, raw_word_count_epoch, job_tally_epoch \u001b[39m=\u001b[39m \u001b[39mself\u001b[39m\u001b[39m.\u001b[39m_train_epoch_corpusfile(\n\u001b[1;32m    556\u001b[0m         corpus_file, cur_epoch\u001b[39m=\u001b[39mcur_epoch, total_examples\u001b[39m=\u001b[39mtotal_examples, total_words\u001b[39m=\u001b[39mtotal_words, \u001b[39m*\u001b[39m\u001b[39m*\u001b[39mkwargs)\n",
      "File \u001b[0;32m~/sandbox/cohere-takehome/venv/lib/python3.8/site-packages/gensim/models/base_any2vec.py:487\u001b[0m, in \u001b[0;36mBaseAny2VecModel._train_epoch\u001b[0;34m(self, data_iterable, cur_epoch, total_examples, total_words, queue_factor, report_delay)\u001b[0m\n\u001b[1;32m    484\u001b[0m     thread\u001b[39m.\u001b[39mdaemon \u001b[39m=\u001b[39m \u001b[39mTrue\u001b[39;00m  \u001b[39m# make interrupting the process with ctrl+c easier\u001b[39;00m\n\u001b[1;32m    485\u001b[0m     thread\u001b[39m.\u001b[39mstart()\n\u001b[0;32m--> 487\u001b[0m trained_word_count, raw_word_count, job_tally \u001b[39m=\u001b[39m \u001b[39mself\u001b[39;49m\u001b[39m.\u001b[39;49m_log_epoch_progress(\n\u001b[1;32m    488\u001b[0m     progress_queue, job_queue, cur_epoch\u001b[39m=\u001b[39;49mcur_epoch, total_examples\u001b[39m=\u001b[39;49mtotal_examples, total_words\u001b[39m=\u001b[39;49mtotal_words,\n\u001b[1;32m    489\u001b[0m     report_delay\u001b[39m=\u001b[39;49mreport_delay, is_corpus_file_mode\u001b[39m=\u001b[39;49m\u001b[39mFalse\u001b[39;49;00m)\n\u001b[1;32m    491\u001b[0m \u001b[39mreturn\u001b[39;00m trained_word_count, raw_word_count, job_tally\n",
      "File \u001b[0;32m~/sandbox/cohere-takehome/venv/lib/python3.8/site-packages/gensim/models/base_any2vec.py:346\u001b[0m, in \u001b[0;36mBaseAny2VecModel._log_epoch_progress\u001b[0;34m(self, progress_queue, job_queue, cur_epoch, total_examples, total_words, report_delay, is_corpus_file_mode)\u001b[0m\n\u001b[1;32m    343\u001b[0m unfinished_worker_count \u001b[39m=\u001b[39m \u001b[39mself\u001b[39m\u001b[39m.\u001b[39mworkers\n\u001b[1;32m    345\u001b[0m \u001b[39mwhile\u001b[39;00m unfinished_worker_count \u001b[39m>\u001b[39m \u001b[39m0\u001b[39m:\n\u001b[0;32m--> 346\u001b[0m     report \u001b[39m=\u001b[39m progress_queue\u001b[39m.\u001b[39;49mget()  \u001b[39m# blocks if workers too slow\u001b[39;00m\n\u001b[1;32m    347\u001b[0m     \u001b[39mif\u001b[39;00m report \u001b[39mis\u001b[39;00m \u001b[39mNone\u001b[39;00m:  \u001b[39m# a thread reporting that it finished\u001b[39;00m\n\u001b[1;32m    348\u001b[0m         unfinished_worker_count \u001b[39m-\u001b[39m\u001b[39m=\u001b[39m \u001b[39m1\u001b[39m\n",
      "File \u001b[0;32m/usr/lib/python3.8/queue.py:170\u001b[0m, in \u001b[0;36mQueue.get\u001b[0;34m(self, block, timeout)\u001b[0m\n\u001b[1;32m    168\u001b[0m \u001b[39melif\u001b[39;00m timeout \u001b[39mis\u001b[39;00m \u001b[39mNone\u001b[39;00m:\n\u001b[1;32m    169\u001b[0m     \u001b[39mwhile\u001b[39;00m \u001b[39mnot\u001b[39;00m \u001b[39mself\u001b[39m\u001b[39m.\u001b[39m_qsize():\n\u001b[0;32m--> 170\u001b[0m         \u001b[39mself\u001b[39;49m\u001b[39m.\u001b[39;49mnot_empty\u001b[39m.\u001b[39;49mwait()\n\u001b[1;32m    171\u001b[0m \u001b[39melif\u001b[39;00m timeout \u001b[39m<\u001b[39m \u001b[39m0\u001b[39m:\n\u001b[1;32m    172\u001b[0m     \u001b[39mraise\u001b[39;00m \u001b[39mValueError\u001b[39;00m(\u001b[39m\"\u001b[39m\u001b[39m'\u001b[39m\u001b[39mtimeout\u001b[39m\u001b[39m'\u001b[39m\u001b[39m must be a non-negative number\u001b[39m\u001b[39m\"\u001b[39m)\n",
      "File \u001b[0;32m/usr/lib/python3.8/threading.py:302\u001b[0m, in \u001b[0;36mCondition.wait\u001b[0;34m(self, timeout)\u001b[0m\n\u001b[1;32m    300\u001b[0m \u001b[39mtry\u001b[39;00m:    \u001b[39m# restore state no matter what (e.g., KeyboardInterrupt)\u001b[39;00m\n\u001b[1;32m    301\u001b[0m     \u001b[39mif\u001b[39;00m timeout \u001b[39mis\u001b[39;00m \u001b[39mNone\u001b[39;00m:\n\u001b[0;32m--> 302\u001b[0m         waiter\u001b[39m.\u001b[39;49macquire()\n\u001b[1;32m    303\u001b[0m         gotit \u001b[39m=\u001b[39m \u001b[39mTrue\u001b[39;00m\n\u001b[1;32m    304\u001b[0m     \u001b[39melse\u001b[39;00m:\n",
      "\u001b[0;31mKeyboardInterrupt\u001b[0m: "
     ]
    }
   ],
   "source": [
    "all_tagged_doc = np.asanyarray(taggedDoc, dtype=object)\n",
    "for epoch in range(10):\n",
    "    perm = np.random.permutation(all_tagged_doc.shape[0])\n",
    "        model_dm.train(all_tagged_doc[perm], total_examples=model_dm.corpus_count, epochs=10)\n",
    "        model_dbow.train(all_tagged_doc[perm], total_examples=model_dbow.corpus_count,  epochs=10)"
   ]
  },
  {
   "cell_type": "code",
   "execution_count": 47,
   "metadata": {},
   "outputs": [],
   "source": [
    "# save models to disk\n",
    "model_dm.save('model_dm.model')\n",
    "model_dbow.save('model_dbow.model')"
   ]
  },
  {
   "cell_type": "code",
   "execution_count": null,
   "metadata": {},
   "outputs": [],
   "source": []
  }
 ],
 "metadata": {
  "kernelspec": {
   "display_name": "Python 3.8.10 ('venv': venv)",
   "language": "python",
   "name": "python3"
  },
  "language_info": {
   "codemirror_mode": {
    "name": "ipython",
    "version": 3
   },
   "file_extension": ".py",
   "mimetype": "text/x-python",
   "name": "python",
   "nbconvert_exporter": "python",
   "pygments_lexer": "ipython3",
   "version": "3.8.10"
  },
  "orig_nbformat": 4,
  "vscode": {
   "interpreter": {
    "hash": "234f4b08dea796048dbaea19d53a00081c31de7324785530dd8e3f9d12a3f19d"
   }
  }
 },
 "nbformat": 4,
 "nbformat_minor": 2
}
