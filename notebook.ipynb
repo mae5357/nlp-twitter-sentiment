{
 "cells": [
  {
   "cell_type": "markdown",
   "metadata": {},
   "source": [
    "# Preprocessing"
   ]
  },
  {
   "cell_type": "code",
   "execution_count": 75,
   "metadata": {},
   "outputs": [],
   "source": [
    "import pandas as pd\n",
    "text = 'Hi my name is Madi and i like to code!!!'\n",
    "\n",
    "data = pd.read_csv('./data/train.csv')"
   ]
  },
  {
   "cell_type": "code",
   "execution_count": 76,
   "metadata": {},
   "outputs": [],
   "source": [
    "from nltk.tokenize import word_tokenize\n",
    "from nltk.corpus import stopwords\n",
    "from gensim import corpora\n",
    "\n",
    "en_stop = set(stopwords.words('english'))\n",
    "\n",
    "def get_lemma2(word):\n",
    "    from nltk.stem.wordnet import WordNetLemmatizer\n",
    "    \"\"\"\n",
    "    This function takes a word and returns its rootword\n",
    "    \"\"\"\n",
    "    return WordNetLemmatizer().lemmatize(word)\n",
    "\n",
    "def nltk_preprocessing(text):\n",
    "    \"\"\"\n",
    "    This function takes a text and returns a list of tokens\n",
    "    - lowercase\n",
    "    - remove short words\n",
    "    - remove stopwords\n",
    "    - gets root word (lemma)\n",
    "\n",
    "    \"\"\"\n",
    "    tokens = word_tokenize(text.lower())\n",
    "    # tokens = [token for token in tokens if len(token) > 4]      # remove short words\n",
    "    tokens = [token for token in tokens if token not in en_stop]\n",
    "    tokens = [get_lemma2(token) for token in tokens]\n",
    "    return tokens"
   ]
  },
  {
   "cell_type": "code",
   "execution_count": null,
   "metadata": {},
   "outputs": [],
   "source": [
    "mydict = corpora.Dictionary([nltk_preprocessing(line) for line in data['text']])\n",
    "corpus = [mydict.doc2bow(nltk_preprocessing(line)) for line in data['text']]"
   ]
  },
  {
   "cell_type": "markdown",
   "metadata": {},
   "source": [
    "# scipy matrix"
   ]
  },
  {
   "cell_type": "code",
   "execution_count": null,
   "metadata": {},
   "outputs": [],
   "source": [
    "# corpus tfidf to scipy sparse matrix\n",
    "from gensim.matutils import corpus2csc\n",
    "import scipy.sparse\n",
    "corpus_sparse = scipy.sparse.csc_matrix(corpus2csc(corpus))"
   ]
  },
  {
   "cell_type": "markdown",
   "metadata": {},
   "source": [
    "# How to create the TFIDF matrix (corpus) in gensim?\n",
    "https://www.machinelearningplus.com/nlp/gensim-tutorial/#8howtocreatethetfidfmatrixcorpusingensim"
   ]
  },
  {
   "cell_type": "code",
   "execution_count": 73,
   "metadata": {},
   "outputs": [],
   "source": [
    "from gensim import models\n",
    "import numpy as np\n",
    "# import corpora\n",
    "from gensim import corpora\n",
    "\n",
    "\n",
    "# Create the Dictionary and Corpus\n",
    "mydict = corpora.Dictionary([nltk_preprocessing(line) for line in data['text']])\n",
    "corpus = [mydict.doc2bow(nltk_preprocessing(line)) for line in data['text']]\n",
    "\n",
    "# create the tfidf model\n",
    "tfidf = models.TfidfModel(corpus, smartirs='ntc')\n"
   ]
  },
  {
   "cell_type": "markdown",
   "metadata": {},
   "source": [
    "# Implementing LSA using Gensim\n",
    "https://machinelearninggeek.com/discovering-hidden-themes-of-documents/#:~:text=Implementing%20LSA%20using%20Gensim"
   ]
  },
  {
   "cell_type": "code",
   "execution_count": null,
   "metadata": {},
   "outputs": [],
   "source": []
  }
 ],
 "metadata": {
  "kernelspec": {
   "display_name": "Python 3.8.10 ('venv': venv)",
   "language": "python",
   "name": "python3"
  },
  "language_info": {
   "codemirror_mode": {
    "name": "ipython",
    "version": 3
   },
   "file_extension": ".py",
   "mimetype": "text/x-python",
   "name": "python",
   "nbconvert_exporter": "python",
   "pygments_lexer": "ipython3",
   "version": "3.8.10"
  },
  "orig_nbformat": 4,
  "vscode": {
   "interpreter": {
    "hash": "234f4b08dea796048dbaea19d53a00081c31de7324785530dd8e3f9d12a3f19d"
   }
  }
 },
 "nbformat": 4,
 "nbformat_minor": 2
}
